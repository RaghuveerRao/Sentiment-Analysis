{
 "cells": [
  {
   "cell_type": "code",
   "execution_count": 67,
   "metadata": {},
   "outputs": [
    {
     "name": "stdout",
     "output_type": "stream",
     "text": [
      "[nltk_data] Downloading package punkt to\n",
      "[nltk_data]     C:\\Users\\vragh\\AppData\\Roaming\\nltk_data...\n",
      "[nltk_data]   Package punkt is already up-to-date!\n",
      "[nltk_data] Downloading package stopwords to\n",
      "[nltk_data]     C:\\Users\\vragh\\AppData\\Roaming\\nltk_data...\n",
      "[nltk_data]   Package stopwords is already up-to-date!\n"
     ]
    }
   ],
   "source": [
    "#load libraries\n",
    "import nltk\n",
    "nltk.download('punkt')\n",
    "nltk.download('stopwords')\n",
    "import pandas as pd\n",
    "import os\n",
    "import pandas as pd\n",
    "import matplotlib.pyplot as plt"
   ]
  },
  {
   "cell_type": "code",
   "execution_count": 68,
   "metadata": {},
   "outputs": [],
   "source": [
    "#Define the main sentiment analysis function\n",
    "def sentiment_check(file):\n",
    "    with open(file, 'r') as myfile:\n",
    "      file_content = open(file, 'r').read()\n",
    "    \n",
    "    #Tokenise the management discussion using NLTK\n",
    "    file_content_tokenized= nltk.word_tokenize(file_content)\n",
    "    \n",
    "    #Create a frequence distribution table of word tokens\n",
    "    freq=pd.Series(nltk.FreqDist(file_content_tokenized)).sort_values(ascending=False)\n",
    "    #print('Most popular 10 stop words',freq.iloc[0:10])\n",
    "    #print('fraction of total word count that are stop words:',freq.iloc[0:10].sum()/freq.sum())\n",
    "    \n",
    "    #The top 10 most common words have been identified as stop words. \n",
    "    #These are words like: 'The', 'Ok', etc.\n",
    "    stopwords=pd.Series(freq.iloc[0:10].index)\n",
    "    \n",
    "\n",
    "    #Remove stopwords\n",
    "    file_content_tokenized=pd.Series([x for x in file_content_tokenized if x not in stopwords.values]).str.lower()\n",
    "    \n",
    "    # Load Loughran and McDonald dictionaries\n",
    "    #these dictionaries are specially used for textual analysis of financial statements\n",
    "    #More details on this in the README.md\n",
    "    pos = pd.read_csv('LM_pos_words.txt', squeeze=True).str.lower()\n",
    "    neg = pd.read_csv('LM_neg_words.txt', squeeze=True).str.lower()\n",
    "    \n",
    "    \n",
    "    positive_words= file_content_tokenized.isin(pos).sum()\n",
    "    negative_words= file_content_tokenized.isin(neg).sum()\n",
    "    \n",
    "    #Total Positive & Negative words in the statement\n",
    "    #(\"Positive Words:\",positive_words)\n",
    "    #print(\"Negative Words:\",negative_words)\n",
    "    \n",
    "    sentiment_score = (positive_words-negative_words)/file_content_tokenized.count()\n",
    "    print(\"for\",file.rstrip('.txt'),\"(positive words - negative words)/total words:\",sentiment_score)\n",
    "    print(\"for\",file.rstrip('.txt'),\"negative words/total words:\",(negative_words)/file_content_tokenized.count())\n",
    "    \n",
    "    #print((positive_words-negative_words)/file_content_tokenized.count())\n",
    "\n",
    "\n",
    "    nnn_words= pd.DataFrame(file_content_tokenized.isin(['no', 'not', 'never']))\n",
    "    nnn_words=nnn_words[nnn_words.iloc[:,0]]\n",
    "    nnn_words['idx']=nnn_words.index.values\n",
    "    nnn_words['words']=file_content_tokenized[nnn_words['idx']]\n",
    "    \n",
    "    pos_after_neg=nnn_words.apply(pos_after_negator,axis=1,args=(pos.values,file_content_tokenized)).dropna()\n",
    "    print('+ve words after a negator:',pos_after_neg.values)\n",
    "    print('')\n",
    "    return sentiment_score;\n",
    "    "
   ]
  },
  {
   "cell_type": "code",
   "execution_count": 69,
   "metadata": {},
   "outputs": [],
   "source": [
    "\n",
    "def pos_after_negator(row,pos,file_content_tokenized):\n",
    "    #pos = pd.read_csv('LM_pos_words.txt', squeeze=True).str.lower()  \n",
    "    #print(row)\n",
    "    string = row['words']\n",
    "    #print(file_content_tokenized.get(row[1]+1,''))\n",
    "    string+=' '+ str(file_content_tokenized.get(row[1]+1,''))\n",
    "    if file_content_tokenized.get(row[1]+1,'') in pos:\n",
    "        return string\n",
    "    string+=' '+ str(file_content_tokenized.get(row[1]+2,''))\n",
    "    if file_content_tokenized.get(row[1]+2,'') in pos:\n",
    "       return string\n",
    "    \n",
    "    string+=' '+ str(file_content_tokenized.get(row[1]+3,''))\n",
    "    if file_content_tokenized.get(row[1]+3,'') in pos:\n",
    "       return string\n",
    "   # print(string)\n",
    "    return None"
   ]
  },
  {
   "cell_type": "code",
   "execution_count": 116,
   "metadata": {},
   "outputs": [],
   "source": [
    "def driver():\n",
    "    #I have extracted Management Discussion section from last 5 10K annual reports and placed them in data folder\n",
    "    path = 'data\\\\'\n",
    "    files = [s for s in os.listdir(path) if s.endswith('.txt')]\n",
    "    year = pd.Series([])\n",
    "    sentiment = pd.Series([])\n",
    "    for file in files:\n",
    "        year = year.append(pd.Series([int(file.split('.')[0])]))\n",
    "        sentiment = sentiment.append(pd.Series([sentiment_check(path+'\\\\'+file)]))\n",
    "    return (year, sentiment)\n",
    "    "
   ]
  },
  {
   "cell_type": "code",
   "execution_count": 117,
   "metadata": {},
   "outputs": [
    {
     "name": "stdout",
     "output_type": "stream",
     "text": [
      "for data\\\\2018 (positive words - negative words)/total words: 0.0032373684819054227\n",
      "for data\\\\2018 negative words/total words: 0.011215169383743786\n",
      "+ve words after a negator: ['no outstanding' 'not criteria benefit']\n",
      "\n",
      "for data\\\\2017 (positive words - negative words)/total words: 0.00250866085294469\n",
      "for data\\\\2017 negative words/total words: 0.012065464102257794\n",
      "+ve words after a negator: ['not only reducing benefit' 'no outstanding' 'no outstanding'\n",
      " 'not criteria benefit']\n",
      "\n",
      "for data\\\\2016 (positive words - negative words)/total words: 0.0015390534821085034\n",
      "for data\\\\2016 negative words/total words: 0.012568936770552777\n",
      "+ve words after a negator: ['not satisfy' 'no outstanding' 'not criteria benefit']\n",
      "\n",
      "for data\\\\2015 (positive words - negative words)/total words: -0.00116918040453642\n",
      "for data\\\\2015 negative words/total words: 0.013211738571261546\n",
      "+ve words after a negator: ['not satisfy' 'not satisfy' 'not criteria benefit']\n",
      "\n",
      "for data\\\\2014 (positive words - negative words)/total words: -0.0015945330296127562\n",
      "for data\\\\2014 negative words/total words: 0.014236902050113895\n",
      "+ve words after a negator: ['not satisfy' 'not criteria benefit']\n",
      "\n"
     ]
    }
   ],
   "source": [
    "#Run for last 5 years\n",
    "year, sentiment = driver()"
   ]
  },
  {
   "cell_type": "code",
   "execution_count": 125,
   "metadata": {},
   "outputs": [
    {
     "data": {
      "image/png": "[encoded data removed]",
      "text/plain": [
       "<Figure size 432x288 with 1 Axes>"
      ]
     },
     "metadata": {
      "needs_background": "light"
     },
     "output_type": "display_data"
    }
   ],
   "source": [
    "#Plot\n",
    "f = plt.figure(1)\n",
    "plt.xticks(year)\n",
    "plt.xlabel = (year, year)\n",
    "plt.plot(year,list(sentiment.values))\n",
    "plt.title('Management sentiment over the years')\n",
    "plt.show()"
   ]
  },
  {
   "cell_type": "code",
   "execution_count": null,
   "metadata": {},
   "outputs": [],
   "source": []
  }
 ],
 "metadata": {
  "kernelspec": {
   "display_name": "Python 3",
   "language": "python",
   "name": "python3"
  },
  "language_info": {
   "codemirror_mode": {
    "name": "ipython",
    "version": 3
   },
   "file_extension": ".py",
   "mimetype": "text/x-python",
   "name": "python",
   "nbconvert_exporter": "python",
   "pygments_lexer": "ipython3",
   "version": "3.6.6"
  }
 },
 "nbformat": 4,
 "nbformat_minor": 2
}
